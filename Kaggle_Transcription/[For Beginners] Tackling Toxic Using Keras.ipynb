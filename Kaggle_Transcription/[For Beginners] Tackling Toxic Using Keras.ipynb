{
 "cells": [
  {
   "cell_type": "markdown",
   "id": "e7cee6fc",
   "metadata": {},
   "source": [
    "### Toxic Comment Classification Challenge\n",
    "- 위협, 외설, 모욕 및 증오와 같은 다양한 유형의 Toxic를 분류하는 모델\n",
    "- keras LSTM을 활용한 Classification 문제 해결\n",
    "- Wikipedia’s talk page edits dataset 사용\n",
    "- Submissions 평가 기준 ROC AUC.\n",
    "  - 각 예측 열의 개별 AUC 평균"
   ]
  },
  {
   "cell_type": "markdown",
   "id": "8a74fbe2",
   "metadata": {},
   "source": [
    "# 라이브러리 및 패키지"
   ]
  },
  {
   "cell_type": "code",
   "execution_count": 1,
   "id": "53dada43",
   "metadata": {},
   "outputs": [],
   "source": [
    "import sys, os, re, csv, codecs, numpy as np, pandas as pd\n",
    "import matplotlib.pyplot as plt\n",
    "%matplotlib inline\n",
    "from keras.preprocessing.text import Tokenizer\n",
    "from keras.preprocessing.sequence import pad_sequences\n",
    "from keras.layers import Dense, Input, LSTM, Embedding, Dropout, Activation\n",
    "from keras.layers import Bidirectional, GlobalMaxPool1D\n",
    "from keras.models import Model\n",
    "from keras import initializers, regularizers, constraints, optimizers, layers"
   ]
  },
  {
   "cell_type": "code",
   "execution_count": 2,
   "id": "02cff85b",
   "metadata": {},
   "outputs": [],
   "source": [
    "train = pd.read_csv('C:\\\\Coding\\\\Kaggle_data\\\\Tackling-toxic-using-keras\\\\train.csv')\n",
    "test = pd.read_csv('C:\\\\Coding\\\\Kaggle_data\\\\Tackling-toxic-using-keras\\\\test.csv')"
   ]
  },
  {
   "cell_type": "code",
   "execution_count": 13,
   "id": "02c787b5",
   "metadata": {},
   "outputs": [
    {
     "name": "stdout",
     "output_type": "stream",
     "text": [
      "<class 'pandas.core.frame.DataFrame'>\n",
      "RangeIndex: 159571 entries, 0 to 159570\n",
      "Data columns (total 8 columns):\n",
      " #   Column         Non-Null Count   Dtype \n",
      "---  ------         --------------   ----- \n",
      " 0   id             159571 non-null  object\n",
      " 1   comment_text   159571 non-null  object\n",
      " 2   toxic          159571 non-null  int64 \n",
      " 3   severe_toxic   159571 non-null  int64 \n",
      " 4   obscene        159571 non-null  int64 \n",
      " 5   threat         159571 non-null  int64 \n",
      " 6   insult         159571 non-null  int64 \n",
      " 7   identity_hate  159571 non-null  int64 \n",
      "dtypes: int64(6), object(2)\n",
      "memory usage: 9.7+ MB\n"
     ]
    }
   ],
   "source": [
    "train.info() "
   ]
  },
  {
   "cell_type": "code",
   "execution_count": 3,
   "id": "f39e49f6",
   "metadata": {},
   "outputs": [
    {
     "data": {
      "text/html": [
       "<div>\n",
       "<style scoped>\n",
       "    .dataframe tbody tr th:only-of-type {\n",
       "        vertical-align: middle;\n",
       "    }\n",
       "\n",
       "    .dataframe tbody tr th {\n",
       "        vertical-align: top;\n",
       "    }\n",
       "\n",
       "    .dataframe thead th {\n",
       "        text-align: right;\n",
       "    }\n",
       "</style>\n",
       "<table border=\"1\" class=\"dataframe\">\n",
       "  <thead>\n",
       "    <tr style=\"text-align: right;\">\n",
       "      <th></th>\n",
       "      <th>id</th>\n",
       "      <th>comment_text</th>\n",
       "      <th>toxic</th>\n",
       "      <th>severe_toxic</th>\n",
       "      <th>obscene</th>\n",
       "      <th>threat</th>\n",
       "      <th>insult</th>\n",
       "      <th>identity_hate</th>\n",
       "    </tr>\n",
       "  </thead>\n",
       "  <tbody>\n",
       "    <tr>\n",
       "      <th>0</th>\n",
       "      <td>0000997932d777bf</td>\n",
       "      <td>Explanation\\nWhy the edits made under my usern...</td>\n",
       "      <td>0</td>\n",
       "      <td>0</td>\n",
       "      <td>0</td>\n",
       "      <td>0</td>\n",
       "      <td>0</td>\n",
       "      <td>0</td>\n",
       "    </tr>\n",
       "    <tr>\n",
       "      <th>1</th>\n",
       "      <td>000103f0d9cfb60f</td>\n",
       "      <td>D'aww! He matches this background colour I'm s...</td>\n",
       "      <td>0</td>\n",
       "      <td>0</td>\n",
       "      <td>0</td>\n",
       "      <td>0</td>\n",
       "      <td>0</td>\n",
       "      <td>0</td>\n",
       "    </tr>\n",
       "    <tr>\n",
       "      <th>2</th>\n",
       "      <td>000113f07ec002fd</td>\n",
       "      <td>Hey man, I'm really not trying to edit war. It...</td>\n",
       "      <td>0</td>\n",
       "      <td>0</td>\n",
       "      <td>0</td>\n",
       "      <td>0</td>\n",
       "      <td>0</td>\n",
       "      <td>0</td>\n",
       "    </tr>\n",
       "    <tr>\n",
       "      <th>3</th>\n",
       "      <td>0001b41b1c6bb37e</td>\n",
       "      <td>\"\\nMore\\nI can't make any real suggestions on ...</td>\n",
       "      <td>0</td>\n",
       "      <td>0</td>\n",
       "      <td>0</td>\n",
       "      <td>0</td>\n",
       "      <td>0</td>\n",
       "      <td>0</td>\n",
       "    </tr>\n",
       "    <tr>\n",
       "      <th>4</th>\n",
       "      <td>0001d958c54c6e35</td>\n",
       "      <td>You, sir, are my hero. Any chance you remember...</td>\n",
       "      <td>0</td>\n",
       "      <td>0</td>\n",
       "      <td>0</td>\n",
       "      <td>0</td>\n",
       "      <td>0</td>\n",
       "      <td>0</td>\n",
       "    </tr>\n",
       "  </tbody>\n",
       "</table>\n",
       "</div>"
      ],
      "text/plain": [
       "                 id                                       comment_text  toxic  \\\n",
       "0  0000997932d777bf  Explanation\\nWhy the edits made under my usern...      0   \n",
       "1  000103f0d9cfb60f  D'aww! He matches this background colour I'm s...      0   \n",
       "2  000113f07ec002fd  Hey man, I'm really not trying to edit war. It...      0   \n",
       "3  0001b41b1c6bb37e  \"\\nMore\\nI can't make any real suggestions on ...      0   \n",
       "4  0001d958c54c6e35  You, sir, are my hero. Any chance you remember...      0   \n",
       "\n",
       "   severe_toxic  obscene  threat  insult  identity_hate  \n",
       "0             0        0       0       0              0  \n",
       "1             0        0       0       0              0  \n",
       "2             0        0       0       0              0  \n",
       "3             0        0       0       0              0  \n",
       "4             0        0       0       0              0  "
      ]
     },
     "execution_count": 3,
     "metadata": {},
     "output_type": "execute_result"
    }
   ],
   "source": [
    "train.head()"
   ]
  },
  {
   "cell_type": "markdown",
   "id": "df672727",
   "metadata": {},
   "source": [
    "- comment_text : text\n",
    "- toxic : toxic\n",
    "- severe_toxic : 심각한 toxic\n",
    "- obscene : 음란\n",
    "- threat : 위협\n",
    "- insult : 모욕\n",
    "- identity_hate : 정체성 혐오\n",
    "\n",
    "null값 확인(없애거나 채우기) "
   ]
  },
  {
   "cell_type": "code",
   "execution_count": 8,
   "id": "6a539323",
   "metadata": {},
   "outputs": [
    {
     "name": "stdout",
     "output_type": "stream",
     "text": [
      "id               False\n",
      "comment_text     False\n",
      "toxic            False\n",
      "severe_toxic     False\n",
      "obscene          False\n",
      "threat           False\n",
      "insult           False\n",
      "identity_hate    False\n",
      "dtype: bool\n",
      "------------------------------\n",
      "id              False\n",
      "comment_text    False\n",
      "dtype: bool\n"
     ]
    }
   ],
   "source": [
    "print(train.isnull().any()) # null(=nan)\n",
    "print('-'*30)\n",
    "print(test.isnull().any())"
   ]
  },
  {
   "cell_type": "code",
   "execution_count": 45,
   "id": "4ddb8679",
   "metadata": {},
   "outputs": [
    {
     "data": {
      "text/html": [
       "<div>\n",
       "<style scoped>\n",
       "    .dataframe tbody tr th:only-of-type {\n",
       "        vertical-align: middle;\n",
       "    }\n",
       "\n",
       "    .dataframe tbody tr th {\n",
       "        vertical-align: top;\n",
       "    }\n",
       "\n",
       "    .dataframe thead th {\n",
       "        text-align: right;\n",
       "    }\n",
       "</style>\n",
       "<table border=\"1\" class=\"dataframe\">\n",
       "  <thead>\n",
       "    <tr style=\"text-align: right;\">\n",
       "      <th></th>\n",
       "      <th>id</th>\n",
       "      <th>comment_text</th>\n",
       "    </tr>\n",
       "  </thead>\n",
       "  <tbody>\n",
       "    <tr>\n",
       "      <th>0</th>\n",
       "      <td>00001cee341fdb12</td>\n",
       "      <td>Yo bitch Ja Rule is more succesful then you'll...</td>\n",
       "    </tr>\n",
       "    <tr>\n",
       "      <th>1</th>\n",
       "      <td>0000247867823ef7</td>\n",
       "      <td>== From RfC == \\n\\n The title is fine as it is...</td>\n",
       "    </tr>\n",
       "    <tr>\n",
       "      <th>2</th>\n",
       "      <td>00013b17ad220c46</td>\n",
       "      <td>\" \\n\\n == Sources == \\n\\n * Zawe Ashton on Lap...</td>\n",
       "    </tr>\n",
       "    <tr>\n",
       "      <th>3</th>\n",
       "      <td>00017563c3f7919a</td>\n",
       "      <td>:If you have a look back at the source, the in...</td>\n",
       "    </tr>\n",
       "    <tr>\n",
       "      <th>4</th>\n",
       "      <td>00017695ad8997eb</td>\n",
       "      <td>I don't anonymously edit articles at all.</td>\n",
       "    </tr>\n",
       "  </tbody>\n",
       "</table>\n",
       "</div>"
      ],
      "text/plain": [
       "                 id                                       comment_text\n",
       "0  00001cee341fdb12  Yo bitch Ja Rule is more succesful then you'll...\n",
       "1  0000247867823ef7  == From RfC == \\n\\n The title is fine as it is...\n",
       "2  00013b17ad220c46  \" \\n\\n == Sources == \\n\\n * Zawe Ashton on Lap...\n",
       "3  00017563c3f7919a  :If you have a look back at the source, the in...\n",
       "4  00017695ad8997eb          I don't anonymously edit articles at all."
      ]
     },
     "execution_count": 45,
     "metadata": {},
     "output_type": "execute_result"
    }
   ],
   "source": [
    "test.head()"
   ]
  },
  {
   "cell_type": "markdown",
   "id": "58adfad2",
   "metadata": {},
   "source": [
    "Feature Engneering에 집중하지 않고 최소한의 작업으로 진행할 예정\n",
    "\n",
    "종속변수(Y)는 train set 자체에 있으므로 X 및 Y 세트로 분할"
   ]
  },
  {
   "cell_type": "code",
   "execution_count": 9,
   "id": "48cc02cf",
   "metadata": {},
   "outputs": [],
   "source": [
    "list_classes = [\"toxic\", \"severe_toxic\", \"obscene\", \"threat\", \"insult\", \"identity_hate\"]\n",
    "\n",
    "y = train[list_classes].values\n",
    "\n",
    "list_sentences_train = train[\"comment_text\"]\n",
    "list_sentences_test = test[\"comment_text\"]"
   ]
  },
  {
   "cell_type": "code",
   "execution_count": 12,
   "id": "1ba1ba8a",
   "metadata": {},
   "outputs": [
    {
     "data": {
      "text/plain": [
       "0         Explanation\\nWhy the edits made under my usern...\n",
       "1         D'aww! He matches this background colour I'm s...\n",
       "2         Hey man, I'm really not trying to edit war. It...\n",
       "3         \"\\nMore\\nI can't make any real suggestions on ...\n",
       "4         You, sir, are my hero. Any chance you remember...\n",
       "                                ...                        \n",
       "159566    \":::::And for the second time of asking, when ...\n",
       "159567    You should be ashamed of yourself \\n\\nThat is ...\n",
       "159568    Spitzer \\n\\nUmm, theres no actual article for ...\n",
       "159569    And it looks like it was actually you who put ...\n",
       "159570    \"\\nAnd ... I really don't think you understand...\n",
       "Name: comment_text, Length: 159571, dtype: object"
      ]
     },
     "execution_count": 12,
     "metadata": {},
     "output_type": "execute_result"
    }
   ],
   "source": [
    "list_sentences_train"
   ]
  },
  {
   "cell_type": "code",
   "execution_count": 14,
   "id": "76ffe4dc",
   "metadata": {},
   "outputs": [
    {
     "data": {
      "text/plain": [
       "0         Yo bitch Ja Rule is more succesful then you'll...\n",
       "1         == From RfC == \\n\\n The title is fine as it is...\n",
       "2         \" \\n\\n == Sources == \\n\\n * Zawe Ashton on Lap...\n",
       "3         :If you have a look back at the source, the in...\n",
       "4                 I don't anonymously edit articles at all.\n",
       "                                ...                        \n",
       "153159    . \\n i totally agree, this stuff is nothing bu...\n",
       "153160    == Throw from out field to home plate. == \\n\\n...\n",
       "153161    \" \\n\\n == Okinotorishima categories == \\n\\n I ...\n",
       "153162    \" \\n\\n == \"\"One of the founding nations of the...\n",
       "153163    \" \\n :::Stop already. Your bullshit is not wel...\n",
       "Name: comment_text, Length: 153164, dtype: object"
      ]
     },
     "execution_count": 14,
     "metadata": {},
     "output_type": "execute_result"
    }
   ],
   "source": [
    "list_sentences_test"
   ]
  },
  {
   "cell_type": "markdown",
   "id": "f94afeab",
   "metadata": {},
   "source": [
    "comment_text 자체를 그대로 model에 넣을 수 없기때문에 다음을 제안\n",
    "\n",
    "1. Tokenization - 문장을 고유한 단어로 분해해야 합니다. 예를 들어 \"나는 고양이를 사랑하고 개를 사랑합니다\"는 [\"I\",\"love\",\"cats\",\"and\",\"dogs\"]가 됩니다.\n",
    "2. Indexing - 단어를 사전과 같은 구조에 넣고 각각 인덱스를 지정합니다. 예: {1:\"I\",2:\"love\",3:\"cats\",4:\"and\",5:\"dogs \"}\n",
    "3. Index Representation - 인덱스 형식으로 주석의 단어 시퀀스를 표현하고 이 인덱스 체인을 LSTM에 공급할 수 있습니다. 예를 들어, [1,2,3,4,2,5]\n",
    "\n",
    "vanilla Tensorflow를 사용하는 경우 own dictionary structure를 구현하고 Indexing을 직접 처리해야함.\n",
    "\n",
    "keras는 위의 모든 단계를 줄일 수 있음. 문장을 Tokenizing 할때 사전에 we have to define the number of unique words(고유한 단어를 정의해야 함)"
   ]
  },
  {
   "cell_type": "code",
   "execution_count": 23,
   "id": "f6e2c1b9",
   "metadata": {},
   "outputs": [
    {
     "name": "stdout",
     "output_type": "stream",
     "text": [
      "<keras_preprocessing.text.Tokenizer object at 0x000001F114C097B8>\n"
     ]
    }
   ],
   "source": [
    "max_features = 20000\n",
    "\n",
    "tokenizer = Tokenizer(num_words=max_features)\n",
    "tokenizer.fit_on_texts(list(list_sentences_train))\n",
    "\n",
    "list_tokenized_train = tokenizer.texts_to_sequences(list_sentences_train)\n",
    "list_tokenized_test = tokenizer.texts_to_sequences(list_sentences_test)"
   ]
  },
  {
   "cell_type": "markdown",
   "id": "6d5f562e",
   "metadata": {},
   "source": [
    "- Tokenizer(num_words=20000) : tokenizer\n",
    "  - num_words : 단어빈도에 따라 유지할 최대단어수\n",
    "- tokenizer.fit_on_texts : 각 시퀀스를 text 목록으로 변환\n",
    "  - A list of sequences (list of integers)\n",
    "- tokenizer.texts_to_sequences : 텍스트의 각 텍스트를 정수 시퀀스로 변환. 가장 자주 사용되는 상위 num_words - 1개 및 Tokenizer가 알고 있는 단어만 고려"
   ]
  },
  {
   "cell_type": "code",
   "execution_count": 24,
   "id": "dfefa714",
   "metadata": {
    "scrolled": true
   },
   "outputs": [
    {
     "data": {
      "text/plain": [
       "[[688,\n",
       "  75,\n",
       "  1,\n",
       "  126,\n",
       "  130,\n",
       "  177,\n",
       "  29,\n",
       "  672,\n",
       "  4511,\n",
       "  12052,\n",
       "  1116,\n",
       "  86,\n",
       "  331,\n",
       "  51,\n",
       "  2278,\n",
       "  11448,\n",
       "  50,\n",
       "  6864,\n",
       "  15,\n",
       "  60,\n",
       "  2756,\n",
       "  148,\n",
       "  7,\n",
       "  2937,\n",
       "  34,\n",
       "  117,\n",
       "  1221,\n",
       "  15190,\n",
       "  2825,\n",
       "  4,\n",
       "  45,\n",
       "  59,\n",
       "  244,\n",
       "  1,\n",
       "  365,\n",
       "  31,\n",
       "  1,\n",
       "  38,\n",
       "  27,\n",
       "  143,\n",
       "  73,\n",
       "  3462,\n",
       "  89,\n",
       "  3085,\n",
       "  4583,\n",
       "  2273,\n",
       "  985]]"
      ]
     },
     "execution_count": 24,
     "metadata": {},
     "output_type": "execute_result"
    }
   ],
   "source": [
    "list_tokenized_train[:1]"
   ]
  },
  {
   "cell_type": "markdown",
   "id": "023cebfe",
   "metadata": {},
   "source": [
    "위처럼 tokenizing 된 경우를 확인할 수 있음.\n",
    "\n",
    "현재 문제는 주석이 매우 길거나 1인 경우 indexed-sentence가 보이지 않는 문제가 발생할 수 있음.\n",
    "- Comment #1: [8,9,3,7,3,6,3,6,3,6,2,3,4,9]\n",
    "- Comment #2: [1,2]\n",
    "\n",
    "consistent length(fixed number of features)를 넣어야 함."
   ]
  },
  {
   "cell_type": "code",
   "execution_count": 26,
   "id": "7e71b102",
   "metadata": {},
   "outputs": [],
   "source": [
    "maxlen = 200\n",
    "X_t = pad_sequences(list_tokenized_train, maxlen=maxlen)\n",
    "X_te = pad_sequences(list_tokenized_test, maxlen=maxlen)"
   ]
  },
  {
   "cell_type": "markdown",
   "id": "6ca0ae88",
   "metadata": {},
   "source": [
    "확장해보자면 왜 maxlen을 200으로 설정했는지 분석을 해볼 필요가 있음."
   ]
  },
  {
   "cell_type": "code",
   "execution_count": 27,
   "id": "af3dad03",
   "metadata": {},
   "outputs": [],
   "source": [
    "totalNumWords = [len(one_comment) for one_comment in list_tokenized_train]"
   ]
  },
  {
   "cell_type": "code",
   "execution_count": 31,
   "id": "9f93f51d",
   "metadata": {},
   "outputs": [
    {
     "data": {
      "image/png": "[encoded data removed]",
      "text/plain": [
       "<Figure size 432x288 with 1 Axes>"
      ]
     },
     "metadata": {
      "needs_background": "light"
     },
     "output_type": "display_data"
    }
   ],
   "source": [
    "plt.hist(totalNumWords,bins = np.arange(0,410,10))#[0,50,100,150,200,250,300,350,400])#,450,500,550,600,650,700,750,800,850,900])\n",
    "plt.show()"
   ]
  },
  {
   "cell_type": "markdown",
   "id": "7a60d8c9",
   "metadata": {},
   "source": [
    "대부분의 문장길이는 30. "
   ]
  },
  {
   "cell_type": "markdown",
   "id": "d236528d",
   "metadata": {},
   "source": [
    "# build Model"
   ]
  },
  {
   "attachments": {
    "image.png": {
     "image/png": "[encoded data removed]"
    }
   },
   "cell_type": "markdown",
   "id": "177b12e3",
   "metadata": {},
   "source": [
    "![image.png](attachment:image.png)"
   ]
  },
  {
   "cell_type": "markdown",
   "id": "5c0e5422",
   "metadata": {},
   "source": [
    "We begin our defining an Input layer that accepts a list of sentences that has a dimension of 200.\n",
    "\n",
    "input은 dimension of 200."
   ]
  },
  {
   "attachments": {
    "image.png": {
     "image/png": "[encoded data removed]"
    }
   },
   "cell_type": "markdown",
   "id": "559560c8",
   "metadata": {},
   "source": [
    "![image.png](attachment:image.png)"
   ]
  },
  {
   "cell_type": "markdown",
   "id": "8df8b8a7",
   "metadata": {},
   "source": [
    "쉼표 뒤에 빈 공간을 표시하면 Keras가 숫자를 자동으로 설정하도록 지시"
   ]
  },
  {
   "cell_type": "code",
   "execution_count": 32,
   "id": "10d94664",
   "metadata": {},
   "outputs": [],
   "source": [
    "inp = Input(shape=(maxlen, )) #maxlen=200 as defined earlier"
   ]
  },
  {
   "cell_type": "code",
   "execution_count": 33,
   "id": "b5cde71b",
   "metadata": {},
   "outputs": [
    {
     "data": {
      "text/plain": [
       "<KerasTensor: shape=(None, 200) dtype=float32 (created by layer 'input_1')>"
      ]
     },
     "execution_count": 33,
     "metadata": {},
     "output_type": "execute_result"
    }
   ],
   "source": [
    "inp"
   ]
  },
  {
   "cell_type": "markdown",
   "id": "1d68affd",
   "metadata": {},
   "source": [
    "Embedding layer에 전달\n",
    "\n",
    "문장에서 주변단어의 거리에 따라 정의된 벡터 공간에 단어를 투영\n",
    "\n",
    "Embedding을 통해 얻을 수 있는 것.\n",
    "- reduce model size\n",
    "- huge dimenstions\n",
    "  - one-hot encoding"
   ]
  },
  {
   "cell_type": "markdown",
   "id": "6290a158",
   "metadata": {},
   "source": [
    "Word Embedding의 역할\n",
    "- Sparse representation -> Dense representation"
   ]
  },
  {
   "attachments": {
    "image.png": {
     "image/png": "[encoded data removed]"
    }
   },
   "cell_type": "markdown",
   "id": "4b619fc6",
   "metadata": {},
   "source": [
    "![image.png](attachment:image.png)"
   ]
  },
  {
   "cell_type": "markdown",
   "id": "d172f3b0",
   "metadata": {},
   "source": [
    "size of the ector space and number of uniqe word(max_features)의 정의가 필요\n",
    "\n",
    "조정하고 실험할 수 있는 매개변수"
   ]
  },
  {
   "cell_type": "code",
   "execution_count": 34,
   "id": "e3109a80",
   "metadata": {},
   "outputs": [],
   "source": [
    "embed_size = 128 \n",
    "x = Embedding(max_features, embed_size)(inp)"
   ]
  },
  {
   "cell_type": "markdown",
   "id": "812154fc",
   "metadata": {},
   "source": [
    "Embedding layer (None, 200, 128)의  3-D tensor를 output\n",
    "\n",
    "이것은 문장의 배열(None은 크기가 유추됨을 의미함)이며 각 단어(200)에 대해 임베딩의 벡터 공간에 128 coordinate의 배열이 있습니다\n",
    "\n",
    "LSTM에 공급\n",
    "\n",
    "차원이 60인 출력을 생성하도록 LSTM을 설정하고 풀린 결과의 전체 시퀀스를 반환하기를 원합니다.\n",
    "\n",
    "LSTM 또는 RNN은 이전 네트워크의 출력을 현재 네트워크의 입력에 재귀적으로 공급하여 작동하며 X번의 재귀 후에 최종 출력을 가져옵니다.\n",
    "\n",
    "그러나 사용 사례에 따라 다음 계층으로 전달할 결과로 전개되거나 각 재귀의 출력을 가져오고 싶을 수 있습니다."
   ]
  },
  {
   "attachments": {
    "image.png": {
     "image/png": "[encoded data removed]"
    }
   },
   "cell_type": "markdown",
   "id": "48eac477",
   "metadata": {},
   "source": [
    "![image.png](attachment:image.png)"
   ]
  },
  {
   "cell_type": "markdown",
   "id": "87ca497d",
   "metadata": {},
   "source": [
    "위의 그림에서 풀린 LSTM은 마지막 h까지 h0,h1,h2 세트를 제공합니다."
   ]
  },
  {
   "cell_type": "markdown",
   "id": "6230d05e",
   "metadata": {},
   "source": [
    "LSTM 계층을 정의하는 짧은 코드 줄에서 필요한 입력 demensions를 놓치기 쉽습니다.\n",
    "\n",
    "LSTM은 [Batch Size, Time Steps, Number of Inputs]의 텐서를 사용합니다.\n",
    "\n",
    "batch size는 number of samples이고,  time step는 각 입력에 대해 실행되는 재귀 횟수입니다. 또는 위 그림에서 \"A\"의 수로 나타낼 수 있습니다.\n",
    "\n",
    "마지막으로 number of inputs는 위의 \"x\" 그림과 같이 LSTM에 전달하는 변수의 수(이 경우 각 문장의 단어 수)입니다."
   ]
  },
  {
   "cell_type": "markdown",
   "id": "c1d84e5d",
   "metadata": {},
   "source": [
    "(None, 200, 128)의 3-D tensor를 LSTM 레이어로 출력하는 이전 임베딩 레이어의 출력을 사용할 수 있습니다.\n",
    "\n",
    "그것이 하는 일은 샘플을 살펴보고 LSTM을 200번 반복적으로 실행하고 매번 단어의 좌표를 전달하는 것입니다.\n",
    "\n",
    "그리고 우리는 펼쳐진 버전(unrolled version)을 원하기 때문에 (None, 200, 60)의 Tensor 모양을 받게 됩니다. 여기서 60은 우리가 정의한 output dimension입니다."
   ]
  },
  {
   "cell_type": "code",
   "execution_count": 36,
   "id": "c41896fe",
   "metadata": {},
   "outputs": [],
   "source": [
    "x = LSTM(60, return_sequences=True,name='lstm_layer')(x)"
   ]
  },
  {
   "cell_type": "markdown",
   "id": "3c1995a5",
   "metadata": {},
   "source": [
    "\n",
    "output을 일반 레이어로 전달하기 전에 3D 텐서를 2D로 reshape해야 합니다. 우리는 우리에게 중요한 데이터를 버리지 않도록 신중하게 재구성하며 이상적으로는 결과 데이터가 원본 데이터를 잘 대표하기를 원합니다.\n",
    "\n",
    "따라서 이미지 데이터의 차원을 줄이기 위해 CNN 문제에서 전통적으로 사용되는 Global Max Pooling 레이어를 사용합니다. 간단히 말해서 데이터의 각 패치를 살펴보고 각 패치의 최대값을 취합니다. 이러한 최대값 컬렉션은 우리가 사용할 수 있는 축소된 데이터의 새로운 집합이 될 것입니다.\n",
    "\n",
    "다른 Kaggle 커널에서 볼 수 있듯이 pooling layers의 different variants(Average, Max 등)이 차원 축소에 사용되며 다른 결과를 얻을 수 있으므로 시도해 보십시오."
   ]
  },
  {
   "cell_type": "code",
   "execution_count": 37,
   "id": "559395fc",
   "metadata": {},
   "outputs": [],
   "source": [
    "x = GlobalMaxPool1D()(x)"
   ]
  },
  {
   "cell_type": "markdown",
   "id": "8b4ee57a",
   "metadata": {},
   "source": [
    "2D Tensor를 손에 들고 일부 노드를 무차별적으로 \"비활성화\"하는 Dropout 레이어로 전달하여 다음 레이어의 노드가 누락된 데이터의 표현을 처리하도록 하고 전체 네트워크가 더 나은 일반화를 초래할 수 있습니다.\n",
    "\n",
    "노드의 10%(0.1)를 드롭아웃하도록 드롭아웃 레이어를 설정했습니다."
   ]
  },
  {
   "cell_type": "code",
   "execution_count": 38,
   "id": "3465d221",
   "metadata": {},
   "outputs": [],
   "source": [
    "x = Dropout(0.1)(x)"
   ]
  },
  {
   "cell_type": "markdown",
   "id": "40230f10",
   "metadata": {},
   "source": [
    "드롭아웃 레이어 이후에 드롭아웃 레이어의 출력을 조밀하게 연결된 레이어에 연결하고 출력은 RELU 함수를 통과합니다. 간단히 말해서 다음과 같습니다.\n",
    "\n",
    "Activation( (Input X Weights) + Bias)\n",
    "\n",
    "가중치, 바이어스 및 활성화 레이어가 모두 설정되어 있는 한 줄에 모두 포함되어 있습니다! Dense 레이어를 정의하여 50의 출력 차원을 생성했습니다."
   ]
  },
  {
   "cell_type": "code",
   "execution_count": 39,
   "id": "889805e9",
   "metadata": {},
   "outputs": [],
   "source": [
    "x = Dense(50, activation=\"relu\")(x)"
   ]
  },
  {
   "cell_type": "markdown",
   "id": "5518a797",
   "metadata": {},
   "source": [
    "출력을 Dropout 레이어에 다시 공급합니다."
   ]
  },
  {
   "cell_type": "markdown",
   "id": "e2fa19ec",
   "metadata": {},
   "source": [
    "마지막으로 출력을 Sigmoid 레이어에 공급합니다. 시그모이드가 사용되는 이유는 6개의 레이블 각각에 대해 이진 분류(1,0)를 달성하려고 하고 시그모이드 함수가 0과 1의 경계 사이에서 출력을 스쿼시하기 때문입니다."
   ]
  },
  {
   "cell_type": "code",
   "execution_count": 40,
   "id": "afb8753d",
   "metadata": {},
   "outputs": [],
   "source": [
    "x = Dense(6, activation=\"sigmoid\")(x)"
   ]
  },
  {
   "cell_type": "markdown",
   "id": "ba31ca6e",
   "metadata": {},
   "source": [
    "이제 입력, 출력을 정의하고 학습 프로세스를 구성하기만 하면 됩니다. 우리는 이진 분류를 다루기 때문에 Adam 옵티마이저를 사용하여 손실 함수를 최적화하도록 모델을 설정하고 손실 함수를 \"binary_crossentropy\"로 정의합니다. 학습률을 구하는 경우 기본값은 0.001로 설정됩니다."
   ]
  },
  {
   "cell_type": "code",
   "execution_count": 41,
   "id": "f68bdc5d",
   "metadata": {},
   "outputs": [],
   "source": [
    "model = Model(inputs=inp, outputs=x)\n",
    "model.compile(loss='binary_crossentropy',\n",
    "                  optimizer='adam',\n",
    "                  metrics=['accuracy'])"
   ]
  },
  {
   "cell_type": "markdown",
   "id": "6ef5b335",
   "metadata": {},
   "source": [
    "각 배치에 대해 32개의 padded 되고 Indexing된 sentence 목록을 제공하고 데이터의 10%를 유효성 validation set로 분할합니다.\n",
    "\n",
    "이 validation set는 각 배치에 대해 모델이 overfitted 되었는지 여부를 평가하는 데 사용됩니다.\n",
    "\n",
    "모델은 2 Epoch 동안에도 실행됩니다. 다음은 실험할 수 있는 몇 가지 조정 가능한 매개변수로, model을 손상시키지 않고(따라서 배치 크기) 정확도를 다음 수준으로 높일 수 있는지 확인합니다."
   ]
  },
  {
   "cell_type": "code",
   "execution_count": 42,
   "id": "445090d3",
   "metadata": {},
   "outputs": [
    {
     "name": "stdout",
     "output_type": "stream",
     "text": [
      "Epoch 1/2\n",
      "4488/4488 [==============================] - 360s 80ms/step - loss: 0.0720 - accuracy: 0.9809 - val_loss: 0.0511 - val_accuracy: 0.9940\n",
      "Epoch 2/2\n",
      "4488/4488 [==============================] - 356s 79ms/step - loss: 0.0464 - accuracy: 0.9930 - val_loss: 0.0481 - val_accuracy: 0.9939\n"
     ]
    },
    {
     "data": {
      "text/plain": [
       "<keras.callbacks.History at 0x1f11b2799e8>"
      ]
     },
     "execution_count": 42,
     "metadata": {},
     "output_type": "execute_result"
    }
   ],
   "source": [
    "batch_size = 32\n",
    "epochs = 2\n",
    "model.fit(X_t,y, batch_size=batch_size, epochs=epochs, validation_split=0.1)"
   ]
  },
  {
   "cell_type": "code",
   "execution_count": 43,
   "id": "e97e813f",
   "metadata": {},
   "outputs": [
    {
     "name": "stdout",
     "output_type": "stream",
     "text": [
      "Model: \"model\"\n",
      "_________________________________________________________________\n",
      "Layer (type)                 Output Shape              Param #   \n",
      "=================================================================\n",
      "input_1 (InputLayer)         [(None, 200)]             0         \n",
      "_________________________________________________________________\n",
      "embedding (Embedding)        (None, 200, 128)          2560000   \n",
      "_________________________________________________________________\n",
      "lstm_layer (LSTM)            (None, 200, 60)           45360     \n",
      "_________________________________________________________________\n",
      "global_max_pooling1d (Global (None, 60)                0         \n",
      "_________________________________________________________________\n",
      "dropout (Dropout)            (None, 60)                0         \n",
      "_________________________________________________________________\n",
      "dense (Dense)                (None, 50)                3050      \n",
      "_________________________________________________________________\n",
      "dense_1 (Dense)              (None, 6)                 306       \n",
      "=================================================================\n",
      "Total params: 2,608,716\n",
      "Trainable params: 2,608,716\n",
      "Non-trainable params: 0\n",
      "_________________________________________________________________\n"
     ]
    }
   ],
   "source": [
    "model.summary()"
   ]
  },
  {
   "cell_type": "code",
   "execution_count": 66,
   "id": "8e4cc446",
   "metadata": {},
   "outputs": [
    {
     "data": {
      "text/plain": [
       "\"Explanation\\nWhy the edits made under my username Hardcore Metallica Fan were reverted? They weren't vandalisms, just closure on some GAs after I voted at New York Dolls FAC. And please don't remove the template from the talk page since I'm retired now.89.205.38.27\""
      ]
     },
     "execution_count": 66,
     "metadata": {},
     "output_type": "execute_result"
    }
   ],
   "source": [
    "list_sentences_train[0]"
   ]
  },
  {
   "cell_type": "code",
   "execution_count": 54,
   "id": "40485513",
   "metadata": {},
   "outputs": [],
   "source": [
    "result = model.predict(X_t)"
   ]
  },
  {
   "cell_type": "code",
   "execution_count": 74,
   "id": "bde7d361",
   "metadata": {},
   "outputs": [
    {
     "data": {
      "text/plain": [
       "array([2.6330352e-03, 6.7009746e-06, 1.9565225e-04, 4.2242067e-05,\n",
       "       1.7327070e-04, 1.1433282e-04], dtype=float32)"
      ]
     },
     "execution_count": 74,
     "metadata": {},
     "output_type": "execute_result"
    }
   ],
   "source": [
    "result[2]"
   ]
  },
  {
   "cell_type": "markdown",
   "id": "be87bfce",
   "metadata": {},
   "source": [
    "# 참고"
   ]
  },
  {
   "cell_type": "markdown",
   "id": "b7bea5c4",
   "metadata": {},
   "source": [
    "- keras Tokenizer  :https://www.tensorflow.org/api_docs/python/tf/keras/preprocessing/text/Tokenizer\n",
    "- keras Tokenizer 설명글 : https://han-py.tistory.com/284\n",
    "- RNN 설명 블로그 : https://medium.com/humanscape-tech/rnn-recurrent-neural-network-%EC%88%9C%ED%99%98%EC%8B%A0%EA%B2%BD%EB%A7%9D-%EC%9D%84-%EC%9D%B4%ED%95%B4%ED%95%B4%EB%B3%B4%EC%9E%90-1697a5472af2\n",
    "- LSTM 설명 : https://dgkim5360.tistory.com/entry/understanding-long-short-term-memory-lstm-kr\n",
    "- LSTM 레츠고블로그: https://ratsgo.github.io/natural%20language%20processing/2017/03/09/rnnlstm/\n",
    "- Embedding의 역할 : https://simpling.tistory.com/entry/Embedding-%EC%9D%B4%EB%9E%80-%EB%AC%B4%EC%97%87%EC%9D%B8%EA%B0%80-%EC%9D%B4%ED%95%B4%ED%95%98%EA%B8%B0\n",
    "- cs231n pooling Layer : https://cs231n.github.io/convolutional-networks/#pool"
   ]
  }
 ],
 "metadata": {
  "kernelspec": {
   "display_name": "Python 3",
   "language": "python",
   "name": "python3"
  },
  "language_info": {
   "codemirror_mode": {
    "name": "ipython",
    "version": 3
   },
   "file_extension": ".py",
   "mimetype": "text/x-python",
   "name": "python",
   "nbconvert_exporter": "python",
   "pygments_lexer": "ipython3",
   "version": "3.6.13"
  }
 },
 "nbformat": 4,
 "nbformat_minor": 5
}
